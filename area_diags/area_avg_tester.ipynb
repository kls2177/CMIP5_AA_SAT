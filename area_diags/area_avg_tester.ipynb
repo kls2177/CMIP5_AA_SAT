{
 "cells": [
  {
   "cell_type": "code",
   "execution_count": 1,
   "metadata": {
    "collapsed": true
   },
   "outputs": [],
   "source": [
    "import numpy as np"
   ]
  },
  {
   "cell_type": "code",
   "execution_count": 49,
   "metadata": {
    "collapsed": true
   },
   "outputs": [],
   "source": [
    "g = np.load('/Users/karensmith/Desktop/AA_masks.npz')\n",
    "AA_mask = g['AA_mask'].T\n",
    "E_AA_mask = g['E_AA_mask'].T\n",
    "W_AA_mask = g['W_AA_mask'].T"
   ]
  },
  {
   "cell_type": "code",
   "execution_count": 9,
   "metadata": {
    "collapsed": false
   },
   "outputs": [],
   "source": [
    "#define workspace\n",
    "workdir = '/Users/karensmith/Desktop'\n",
    "varname = 'psl'\n",
    "memname = 'r1i1p1'\n",
    "#loop over models\n",
    "modelfile = open('/Users/karensmith/Desktop/histmonlist_tas.txt', 'r')\n",
    "#models = modelfile.read().splitlines()\n",
    "models = 'CCSM4'\n",
    "for i in range(len(models)):\n",
    "    fname = workdir + '/' + varname + '_' + models + '_' + memname + '.npz'\n",
    "    f = np.load(fname)\n",
    "    lat = f['lat']\n",
    "    lon = f['lon']\n",
    "    var_djf = f['var_djf_interp']\n",
    "    var_jja = f['var_jja_interp']\n",
    "    var_mam = f['var_mam_interp']\n",
    "    var_son = f['var_son_interp']\n",
    "    var_ann = f['var_ann_interp']"
   ]
  },
  {
   "cell_type": "code",
   "execution_count": 47,
   "metadata": {
    "collapsed": false
   },
   "outputs": [
    {
     "data": {
      "text/plain": [
       "(91, 180)"
      ]
     },
     "execution_count": 47,
     "metadata": {},
     "output_type": "execute_result"
    }
   ],
   "source": [
    "y = lat*np.pi/180\n",
    "coslat = np.cos(y)\n",
    "coslat = np.tile(coslat,(lon.size,1)).T\n",
    "coslat.shape"
   ]
  },
  {
   "cell_type": "code",
   "execution_count": 51,
   "metadata": {
    "collapsed": false
   },
   "outputs": [],
   "source": [
    "nan = float('nan')\n",
    "AA_tmp = np.zeros([var_ann.shape[0], lat.size, lon.size])\n",
    "coslat_tmp = np.zeros([lat.size, lon.size])\n",
    "for i in range(lat.size):\n",
    "            for j in range(lon.size):\n",
    "                if AA_mask[i,j] == 0:\n",
    "                    AA_tmp[:,i,j] = var_ann[:,i,j]\n",
    "                    coslat_tmp[i,j] = coslat[i,j]\n",
    "                else:\n",
    "                    AA_tmp[:,i,j] = nan\n",
    "                    coslat_tmp[i,j] = nan"
   ]
  },
  {
   "cell_type": "code",
   "execution_count": 52,
   "metadata": {
    "collapsed": false
   },
   "outputs": [],
   "source": [
    "#area weighting (weight by cos(lat) because area of grid boxes get smaller closer to the pole)\n",
    "AA_tmp_cos = np.zeros([var_ann.shape[0], lat.size, lon.size])\n",
    "for i in range(lat.size):\n",
    "    for j in range(lon.size):\n",
    "        AA_tmp_cos[:,i,j] = AA_tmp[:,i,j] * coslat_tmp[i,j]\n",
    "\n",
    "#sum over all gridpoints\n",
    "cos_sum1 = np.nansum(coslat_tmp, axis=0)\n",
    "cos_sum = np.nansum(cos_sum1);\n",
    "\n",
    "AA_sum1 = np.nansum(AA_tmp_cos, axis=1)\n",
    "AA_sum = np.nansum(AA_sum1,axis=1)\n",
    "\n",
    "#normalize by area\n",
    "AAavg = AA_sum / cos_sum"
   ]
  },
  {
   "cell_type": "code",
   "execution_count": 53,
   "metadata": {
    "collapsed": false
   },
   "outputs": [
    {
     "data": {
      "text/plain": [
       "array([ 99120.25843749,  99036.89641923,  98966.99920497,  99161.16211979,\n",
       "        99104.21839285,  99027.96332375,  98905.55118567,  99197.17960067,\n",
       "        98893.83450061,  99024.73721328,  98958.9411833 ,  99249.52572963,\n",
       "        98887.39922839,  99236.92206884,  99036.45918878,  98943.8710448 ,\n",
       "        98870.24852521,  98787.38422956,  99038.81204952,  98892.06964419,\n",
       "        99241.77412546,  98889.08683353,  98887.16039956,  98885.57053501,\n",
       "        98949.41189859,  98927.71714761,  98880.86842372])"
      ]
     },
     "execution_count": 53,
     "metadata": {},
     "output_type": "execute_result"
    }
   ],
   "source": [
    "AAavg"
   ]
  },
  {
   "cell_type": "code",
   "execution_count": null,
   "metadata": {
    "collapsed": true
   },
   "outputs": [],
   "source": []
  }
 ],
 "metadata": {
  "kernelspec": {
   "display_name": "Python 3",
   "language": "python",
   "name": "python3"
  },
  "language_info": {
   "codemirror_mode": {
    "name": "ipython",
    "version": 3
   },
   "file_extension": ".py",
   "mimetype": "text/x-python",
   "name": "python",
   "nbconvert_exporter": "python",
   "pygments_lexer": "ipython3",
   "version": "3.4.3"
  }
 },
 "nbformat": 4,
 "nbformat_minor": 0
}
